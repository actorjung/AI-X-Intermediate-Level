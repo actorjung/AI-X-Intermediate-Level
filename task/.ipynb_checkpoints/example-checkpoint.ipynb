{
 "cells": [
  {
   "cell_type": "code",
   "execution_count": 3,
   "metadata": {
    "executionInfo": {
     "elapsed": 5287,
     "status": "ok",
     "timestamp": 1682001708953,
     "user": {
      "displayName": "Hojun Lee",
      "userId": "14713924399124402560"
     },
     "user_tz": -540
    },
    "id": "sFIpmbD_EFtH"
   },
   "outputs": [],
   "source": [
    "import numpy as np\n",
    "import pandas as pd\n",
    "from matplotlib import pyplot as plt\n",
    "import nltk\n",
    "import re \n",
    "from nltk.tokenize import word_tokenize\n",
    "from nltk.corpus import stopwords\n",
    "from nltk.stem.porter import PorterStemmer\n",
    "from keras.preprocessing.text import Tokenizer\n",
    "from tensorflow.keras.preprocessing.sequence import pad_sequences\n",
    "from sklearn.model_selection import train_test_split\n",
    "from keras.models import Sequential\n",
    "from keras.layers import Dense, Dropout, Embedding, LSTM, GlobalMaxPooling1D, SpatialDropout1D"
   ]
  },
  {
   "cell_type": "code",
   "execution_count": 4,
   "metadata": {
    "executionInfo": {
     "elapsed": 1636,
     "status": "ok",
     "timestamp": 1682001735561,
     "user": {
      "displayName": "Hojun Lee",
      "userId": "14713924399124402560"
     },
     "user_tz": -540
    },
    "id": "-mnuP2aBEFtZ"
   },
   "outputs": [],
   "source": [
    "data=pd.read_csv('twitter_training.csv', sep=',', names=['Tweet_ID','Entity','Sentiment','Tweet_content'])"
   ]
  },
  {
   "cell_type": "code",
   "execution_count": 5,
   "metadata": {
    "colab": {
     "base_uri": "https://localhost:8080/"
    },
    "executionInfo": {
     "elapsed": 253,
     "status": "ok",
     "timestamp": 1682001737662,
     "user": {
      "displayName": "Hojun Lee",
      "userId": "14713924399124402560"
     },
     "user_tz": -540
    },
    "id": "Q_sbbsnjEFta",
    "outputId": "5b4f8f26-a644-44b2-d873-480ebd6a018e"
   },
   "outputs": [
    {
     "data": {
      "text/plain": [
       "(74682, 4)"
      ]
     },
     "execution_count": 5,
     "metadata": {},
     "output_type": "execute_result"
    }
   ],
   "source": [
    "data.shape"
   ]
  },
  {
   "cell_type": "code",
   "execution_count": 6,
   "metadata": {
    "colab": {
     "base_uri": "https://localhost:8080/",
     "height": 206
    },
    "executionInfo": {
     "elapsed": 373,
     "status": "ok",
     "timestamp": 1682001745875,
     "user": {
      "displayName": "Hojun Lee",
      "userId": "14713924399124402560"
     },
     "user_tz": -540
    },
    "id": "SV1soumkEFtf",
    "outputId": "147c9a8b-64a4-43fa-e6f3-67bde5e1d313"
   },
   "outputs": [
    {
     "data": {
      "text/html": [
       "<div>\n",
       "<style scoped>\n",
       "    .dataframe tbody tr th:only-of-type {\n",
       "        vertical-align: middle;\n",
       "    }\n",
       "\n",
       "    .dataframe tbody tr th {\n",
       "        vertical-align: top;\n",
       "    }\n",
       "\n",
       "    .dataframe thead th {\n",
       "        text-align: right;\n",
       "    }\n",
       "</style>\n",
       "<table border=\"1\" class=\"dataframe\">\n",
       "  <thead>\n",
       "    <tr style=\"text-align: right;\">\n",
       "      <th></th>\n",
       "      <th>Tweet_ID</th>\n",
       "      <th>Entity</th>\n",
       "      <th>Sentiment</th>\n",
       "      <th>Tweet_content</th>\n",
       "    </tr>\n",
       "  </thead>\n",
       "  <tbody>\n",
       "    <tr>\n",
       "      <th>0</th>\n",
       "      <td>2401</td>\n",
       "      <td>Borderlands</td>\n",
       "      <td>Positive</td>\n",
       "      <td>im getting on borderlands and i will murder yo...</td>\n",
       "    </tr>\n",
       "    <tr>\n",
       "      <th>1</th>\n",
       "      <td>2401</td>\n",
       "      <td>Borderlands</td>\n",
       "      <td>Positive</td>\n",
       "      <td>I am coming to the borders and I will kill you...</td>\n",
       "    </tr>\n",
       "    <tr>\n",
       "      <th>2</th>\n",
       "      <td>2401</td>\n",
       "      <td>Borderlands</td>\n",
       "      <td>Positive</td>\n",
       "      <td>im getting on borderlands and i will kill you ...</td>\n",
       "    </tr>\n",
       "    <tr>\n",
       "      <th>3</th>\n",
       "      <td>2401</td>\n",
       "      <td>Borderlands</td>\n",
       "      <td>Positive</td>\n",
       "      <td>im coming on borderlands and i will murder you...</td>\n",
       "    </tr>\n",
       "    <tr>\n",
       "      <th>4</th>\n",
       "      <td>2401</td>\n",
       "      <td>Borderlands</td>\n",
       "      <td>Positive</td>\n",
       "      <td>im getting on borderlands 2 and i will murder ...</td>\n",
       "    </tr>\n",
       "  </tbody>\n",
       "</table>\n",
       "</div>"
      ],
      "text/plain": [
       "   Tweet_ID       Entity Sentiment  \\\n",
       "0      2401  Borderlands  Positive   \n",
       "1      2401  Borderlands  Positive   \n",
       "2      2401  Borderlands  Positive   \n",
       "3      2401  Borderlands  Positive   \n",
       "4      2401  Borderlands  Positive   \n",
       "\n",
       "                                       Tweet_content  \n",
       "0  im getting on borderlands and i will murder yo...  \n",
       "1  I am coming to the borders and I will kill you...  \n",
       "2  im getting on borderlands and i will kill you ...  \n",
       "3  im coming on borderlands and i will murder you...  \n",
       "4  im getting on borderlands 2 and i will murder ...  "
      ]
     },
     "execution_count": 6,
     "metadata": {},
     "output_type": "execute_result"
    }
   ],
   "source": [
    "data.head()"
   ]
  },
  {
   "cell_type": "code",
   "execution_count": 7,
   "metadata": {
    "colab": {
     "base_uri": "https://localhost:8080/",
     "height": 206
    },
    "executionInfo": {
     "elapsed": 12,
     "status": "ok",
     "timestamp": 1682001746300,
     "user": {
      "displayName": "Hojun Lee",
      "userId": "14713924399124402560"
     },
     "user_tz": -540
    },
    "id": "DRZ_A3vPEFth",
    "outputId": "4ec1e0e4-7d78-4806-c5fd-d134042b3906"
   },
   "outputs": [
    {
     "data": {
      "text/html": [
       "<div>\n",
       "<style scoped>\n",
       "    .dataframe tbody tr th:only-of-type {\n",
       "        vertical-align: middle;\n",
       "    }\n",
       "\n",
       "    .dataframe tbody tr th {\n",
       "        vertical-align: top;\n",
       "    }\n",
       "\n",
       "    .dataframe thead th {\n",
       "        text-align: right;\n",
       "    }\n",
       "</style>\n",
       "<table border=\"1\" class=\"dataframe\">\n",
       "  <thead>\n",
       "    <tr style=\"text-align: right;\">\n",
       "      <th></th>\n",
       "      <th>Tweet_ID</th>\n",
       "      <th>Entity</th>\n",
       "      <th>Sentiment</th>\n",
       "      <th>Tweet_content</th>\n",
       "    </tr>\n",
       "  </thead>\n",
       "  <tbody>\n",
       "    <tr>\n",
       "      <th>74677</th>\n",
       "      <td>9200</td>\n",
       "      <td>Nvidia</td>\n",
       "      <td>Positive</td>\n",
       "      <td>Just realized that the Windows partition of my...</td>\n",
       "    </tr>\n",
       "    <tr>\n",
       "      <th>74678</th>\n",
       "      <td>9200</td>\n",
       "      <td>Nvidia</td>\n",
       "      <td>Positive</td>\n",
       "      <td>Just realized that my Mac window partition is ...</td>\n",
       "    </tr>\n",
       "    <tr>\n",
       "      <th>74679</th>\n",
       "      <td>9200</td>\n",
       "      <td>Nvidia</td>\n",
       "      <td>Positive</td>\n",
       "      <td>Just realized the windows partition of my Mac ...</td>\n",
       "    </tr>\n",
       "    <tr>\n",
       "      <th>74680</th>\n",
       "      <td>9200</td>\n",
       "      <td>Nvidia</td>\n",
       "      <td>Positive</td>\n",
       "      <td>Just realized between the windows partition of...</td>\n",
       "    </tr>\n",
       "    <tr>\n",
       "      <th>74681</th>\n",
       "      <td>9200</td>\n",
       "      <td>Nvidia</td>\n",
       "      <td>Positive</td>\n",
       "      <td>Just like the windows partition of my Mac is l...</td>\n",
       "    </tr>\n",
       "  </tbody>\n",
       "</table>\n",
       "</div>"
      ],
      "text/plain": [
       "       Tweet_ID  Entity Sentiment  \\\n",
       "74677      9200  Nvidia  Positive   \n",
       "74678      9200  Nvidia  Positive   \n",
       "74679      9200  Nvidia  Positive   \n",
       "74680      9200  Nvidia  Positive   \n",
       "74681      9200  Nvidia  Positive   \n",
       "\n",
       "                                           Tweet_content  \n",
       "74677  Just realized that the Windows partition of my...  \n",
       "74678  Just realized that my Mac window partition is ...  \n",
       "74679  Just realized the windows partition of my Mac ...  \n",
       "74680  Just realized between the windows partition of...  \n",
       "74681  Just like the windows partition of my Mac is l...  "
      ]
     },
     "execution_count": 7,
     "metadata": {},
     "output_type": "execute_result"
    }
   ],
   "source": [
    "data.tail()"
   ]
  },
  {
   "cell_type": "code",
   "execution_count": 8,
   "metadata": {
    "colab": {
     "base_uri": "https://localhost:8080/"
    },
    "executionInfo": {
     "elapsed": 12,
     "status": "ok",
     "timestamp": 1682001746301,
     "user": {
      "displayName": "Hojun Lee",
      "userId": "14713924399124402560"
     },
     "user_tz": -540
    },
    "id": "PVeNE65CEFtj",
    "outputId": "30419093-f659-44c9-b966-4c827e236c11"
   },
   "outputs": [
    {
     "data": {
      "text/plain": [
       "array(['Borderlands', 'CallOfDutyBlackopsColdWar', 'Amazon', 'Overwatch',\n",
       "       'Xbox(Xseries)', 'NBA2K', 'Dota2', 'PlayStation5(PS5)',\n",
       "       'WorldOfCraft', 'CS-GO', 'Google', 'AssassinsCreed', 'ApexLegends',\n",
       "       'LeagueOfLegends', 'Fortnite', 'Microsoft', 'Hearthstone',\n",
       "       'Battlefield', 'PlayerUnknownsBattlegrounds(PUBG)', 'Verizon',\n",
       "       'HomeDepot', 'FIFA', 'RedDeadRedemption(RDR)', 'CallOfDuty',\n",
       "       'TomClancysRainbowSix', 'Facebook', 'GrandTheftAuto(GTA)',\n",
       "       'MaddenNFL', 'johnson&johnson', 'Cyberpunk2077',\n",
       "       'TomClancysGhostRecon', 'Nvidia'], dtype=object)"
      ]
     },
     "execution_count": 8,
     "metadata": {},
     "output_type": "execute_result"
    }
   ],
   "source": [
    "data.Entity.unique()"
   ]
  },
  {
   "cell_type": "code",
   "execution_count": 9,
   "metadata": {
    "colab": {
     "base_uri": "https://localhost:8080/",
     "height": 626
    },
    "executionInfo": {
     "elapsed": 1130,
     "status": "ok",
     "timestamp": 1682001747421,
     "user": {
      "displayName": "Hojun Lee",
      "userId": "14713924399124402560"
     },
     "user_tz": -540
    },
    "id": "w6JCodyjEFtk",
    "outputId": "5bc4cb84-dd95-449b-937e-a65622c10124"
   },
   "outputs": [
    {
     "data": {
      "text/plain": [
       "([<matplotlib.patches.Wedge at 0x28d9de8d0>,\n",
       "  <matplotlib.patches.Wedge at 0x28d9f8610>,\n",
       "  <matplotlib.patches.Wedge at 0x28d9fa410>,\n",
       "  <matplotlib.patches.Wedge at 0x28bd003d0>],\n",
       " [Text(-0.8936408809046303, 0.6414093669225578, 'Negative'),\n",
       "  Text(-0.39649770564254117, -1.0260553442286633, 'Positive'),\n",
       "  Text(1.0532293937999033, -0.3173449921392938, 'Neutral'),\n",
       "  Text(0.5716146417662045, 0.9398173765782871, 'Irrelevant')],\n",
       " [Text(-0.4874404804934347, 0.3498596546850315, '30.2%'),\n",
       "  Text(-0.21627147580502246, -0.5596665513974527, '27.9%'),\n",
       "  Text(0.5744887602544927, -0.17309726843961476, '24.5%'),\n",
       "  Text(0.31178980459974787, 0.5126276599517929, '17.4%')])"
      ]
     },
     "execution_count": 9,
     "metadata": {},
     "output_type": "execute_result"
    },
    {
     "data": {
      "image/png": "[encoded data removed]",
      "text/plain": [
       "<Figure size 640x480 with 1 Axes>"
      ]
     },
     "metadata": {},
     "output_type": "display_data"
    }
   ],
   "source": [
    "plt.pie(data.Sentiment.value_counts(),labels=['Negative','Positive','Neutral','Irrelevant'],autopct='%1.1f%%',startangle=90)"
   ]
  },
  {
   "cell_type": "code",
   "execution_count": 10,
   "metadata": {
    "colab": {
     "base_uri": "https://localhost:8080/"
    },
    "executionInfo": {
     "elapsed": 24,
     "status": "ok",
     "timestamp": 1682001747422,
     "user": {
      "displayName": "Hojun Lee",
      "userId": "14713924399124402560"
     },
     "user_tz": -540
    },
    "id": "FH3rcILnEFtn",
    "outputId": "2f35487b-88f4-44c9-e324-f084f1f4161e"
   },
   "outputs": [
    {
     "data": {
      "text/plain": [
       "Negative      22542\n",
       "Positive      20832\n",
       "Neutral       18318\n",
       "Irrelevant    12990\n",
       "Name: Sentiment, dtype: int64"
      ]
     },
     "execution_count": 10,
     "metadata": {},
     "output_type": "execute_result"
    }
   ],
   "source": [
    "data['Sentiment'].value_counts()"
   ]
  },
  {
   "cell_type": "code",
   "execution_count": 10,
   "metadata": {
    "colab": {
     "base_uri": "https://localhost:8080/"
    },
    "executionInfo": {
     "elapsed": 22,
     "status": "ok",
     "timestamp": 1682001747422,
     "user": {
      "displayName": "Hojun Lee",
      "userId": "14713924399124402560"
     },
     "user_tz": -540
    },
    "id": "-gxQgMa2EFto",
    "outputId": "030241ec-1d26-4f3a-b818-a656ba7eb085"
   },
   "outputs": [
    {
     "data": {
      "text/plain": [
       "2700"
      ]
     },
     "execution_count": 10,
     "metadata": {},
     "output_type": "execute_result"
    }
   ],
   "source": [
    "#중복되는 값 확인\n",
    "data.duplicated().sum()"
   ]
  },
  {
   "cell_type": "code",
   "execution_count": 11,
   "metadata": {
    "colab": {
     "base_uri": "https://localhost:8080/"
    },
    "executionInfo": {
     "elapsed": 21,
     "status": "ok",
     "timestamp": 1682001747423,
     "user": {
      "displayName": "Hojun Lee",
      "userId": "14713924399124402560"
     },
     "user_tz": -540
    },
    "id": "NufopyBLEFtq",
    "outputId": "63ba5bc6-6619-4a27-8df0-b6537a1998ea"
   },
   "outputs": [
    {
     "data": {
      "text/plain": [
       "0"
      ]
     },
     "execution_count": 11,
     "metadata": {},
     "output_type": "execute_result"
    }
   ],
   "source": [
    "#중복되는 값 제거\n",
    "data.drop_duplicates(inplace=True)\n",
    "data.duplicated().sum()"
   ]
  },
  {
   "cell_type": "code",
   "execution_count": 12,
   "metadata": {
    "colab": {
     "base_uri": "https://localhost:8080/"
    },
    "executionInfo": {
     "elapsed": 19,
     "status": "ok",
     "timestamp": 1682001747423,
     "user": {
      "displayName": "Hojun Lee",
      "userId": "14713924399124402560"
     },
     "user_tz": -540
    },
    "id": "v8nPl6BcEFtv",
    "outputId": "4f8c9ef0-9144-406d-ef11-c2fd8fc55e5e"
   },
   "outputs": [
    {
     "data": {
      "text/plain": [
       "Tweet_ID           0\n",
       "Entity             0\n",
       "Sentiment          0\n",
       "Tweet_content    326\n",
       "dtype: int64"
      ]
     },
     "execution_count": 12,
     "metadata": {},
     "output_type": "execute_result"
    }
   ],
   "source": [
    "#NULL값 확인\n",
    "data.isnull().sum()"
   ]
  },
  {
   "cell_type": "code",
   "execution_count": 13,
   "metadata": {
    "colab": {
     "base_uri": "https://localhost:8080/"
    },
    "executionInfo": {
     "elapsed": 17,
     "status": "ok",
     "timestamp": 1682001747423,
     "user": {
      "displayName": "Hojun Lee",
      "userId": "14713924399124402560"
     },
     "user_tz": -540
    },
    "id": "8Pygl7W8EFtw",
    "outputId": "2cf88458-ae29-428a-87c9-c384bf6db2d5"
   },
   "outputs": [
    {
     "data": {
      "text/plain": [
       "Tweet_ID         0\n",
       "Entity           0\n",
       "Sentiment        0\n",
       "Tweet_content    0\n",
       "dtype: int64"
      ]
     },
     "execution_count": 13,
     "metadata": {},
     "output_type": "execute_result"
    }
   ],
   "source": [
    "#NULL값 제거\n",
    "data.dropna(axis=0, inplace=True)\n",
    "data.isnull().sum()"
   ]
  },
  {
   "cell_type": "code",
   "execution_count": 14,
   "metadata": {
    "executionInfo": {
     "elapsed": 17,
     "status": "ok",
     "timestamp": 1682001747424,
     "user": {
      "displayName": "Hojun Lee",
      "userId": "14713924399124402560"
     },
     "user_tz": -540
    },
    "id": "AV2hrz8TEFtx"
   },
   "outputs": [],
   "source": [
    "#인덱스 초기화\n",
    "data.reset_index(inplace=True)"
   ]
  },
  {
   "cell_type": "code",
   "execution_count": 15,
   "metadata": {
    "colab": {
     "base_uri": "https://localhost:8080/"
    },
    "executionInfo": {
     "elapsed": 16,
     "status": "ok",
     "timestamp": 1682001747424,
     "user": {
      "displayName": "Hojun Lee",
      "userId": "14713924399124402560"
     },
     "user_tz": -540
    },
    "id": "NmVszVLbEFty",
    "outputId": "736e579d-c2dc-408b-a4e4-a2d089bafb02"
   },
   "outputs": [
    {
     "data": {
      "text/plain": [
       "(71656, 5)"
      ]
     },
     "execution_count": 15,
     "metadata": {},
     "output_type": "execute_result"
    }
   ],
   "source": [
    "data.shape"
   ]
  },
  {
   "cell_type": "code",
   "execution_count": 16,
   "metadata": {
    "colab": {
     "base_uri": "https://localhost:8080/",
     "height": 206
    },
    "executionInfo": {
     "elapsed": 15,
     "status": "ok",
     "timestamp": 1682001747424,
     "user": {
      "displayName": "Hojun Lee",
      "userId": "14713924399124402560"
     },
     "user_tz": -540
    },
    "id": "J9m2lmZ7EFtz",
    "outputId": "0afe88c4-f755-4679-8b8c-81141a673686"
   },
   "outputs": [
    {
     "data": {
      "text/html": [
       "<div>\n",
       "<style scoped>\n",
       "    .dataframe tbody tr th:only-of-type {\n",
       "        vertical-align: middle;\n",
       "    }\n",
       "\n",
       "    .dataframe tbody tr th {\n",
       "        vertical-align: top;\n",
       "    }\n",
       "\n",
       "    .dataframe thead th {\n",
       "        text-align: right;\n",
       "    }\n",
       "</style>\n",
       "<table border=\"1\" class=\"dataframe\">\n",
       "  <thead>\n",
       "    <tr style=\"text-align: right;\">\n",
       "      <th></th>\n",
       "      <th>index</th>\n",
       "      <th>Tweet_ID</th>\n",
       "      <th>Entity</th>\n",
       "      <th>Sentiment</th>\n",
       "      <th>Tweet_content</th>\n",
       "    </tr>\n",
       "  </thead>\n",
       "  <tbody>\n",
       "    <tr>\n",
       "      <th>0</th>\n",
       "      <td>0</td>\n",
       "      <td>2401</td>\n",
       "      <td>Borderlands</td>\n",
       "      <td>Positive</td>\n",
       "      <td>im getting on borderlands and i will murder yo...</td>\n",
       "    </tr>\n",
       "    <tr>\n",
       "      <th>1</th>\n",
       "      <td>1</td>\n",
       "      <td>2401</td>\n",
       "      <td>Borderlands</td>\n",
       "      <td>Positive</td>\n",
       "      <td>I am coming to the borders and I will kill you...</td>\n",
       "    </tr>\n",
       "    <tr>\n",
       "      <th>2</th>\n",
       "      <td>2</td>\n",
       "      <td>2401</td>\n",
       "      <td>Borderlands</td>\n",
       "      <td>Positive</td>\n",
       "      <td>im getting on borderlands and i will kill you ...</td>\n",
       "    </tr>\n",
       "    <tr>\n",
       "      <th>3</th>\n",
       "      <td>3</td>\n",
       "      <td>2401</td>\n",
       "      <td>Borderlands</td>\n",
       "      <td>Positive</td>\n",
       "      <td>im coming on borderlands and i will murder you...</td>\n",
       "    </tr>\n",
       "    <tr>\n",
       "      <th>4</th>\n",
       "      <td>4</td>\n",
       "      <td>2401</td>\n",
       "      <td>Borderlands</td>\n",
       "      <td>Positive</td>\n",
       "      <td>im getting on borderlands 2 and i will murder ...</td>\n",
       "    </tr>\n",
       "  </tbody>\n",
       "</table>\n",
       "</div>"
      ],
      "text/plain": [
       "   index  Tweet_ID       Entity Sentiment  \\\n",
       "0      0      2401  Borderlands  Positive   \n",
       "1      1      2401  Borderlands  Positive   \n",
       "2      2      2401  Borderlands  Positive   \n",
       "3      3      2401  Borderlands  Positive   \n",
       "4      4      2401  Borderlands  Positive   \n",
       "\n",
       "                                       Tweet_content  \n",
       "0  im getting on borderlands and i will murder yo...  \n",
       "1  I am coming to the borders and I will kill you...  \n",
       "2  im getting on borderlands and i will kill you ...  \n",
       "3  im coming on borderlands and i will murder you...  \n",
       "4  im getting on borderlands 2 and i will murder ...  "
      ]
     },
     "execution_count": 16,
     "metadata": {},
     "output_type": "execute_result"
    }
   ],
   "source": [
    "data.head()"
   ]
  },
  {
   "cell_type": "code",
   "execution_count": 19,
   "metadata": {
    "executionInfo": {
     "elapsed": 12,
     "status": "ok",
     "timestamp": 1682001747424,
     "user": {
      "displayName": "Hojun Lee",
      "userId": "14713924399124402560"
     },
     "user_tz": -540
    },
    "id": "bHmxW6R1EFt0"
   },
   "outputs": [],
   "source": [
    "#축약 단어들 바꾸고 \" \"를 문장부호 앞에 삽입 하고 split으로 텍스트를 하나의 단어 목록으로 분할하고 다시 join을 사용해 중복 \" \"을 없앰\n",
    "replace_list = {r\"i'm\": 'i am',\n",
    "                r\"'re\": ' are',\n",
    "                r\"let’s\": 'let us',\n",
    "                r\"'s\":  ' is',\n",
    "                r\"'ve\": ' have',\n",
    "                r\"can't\": 'can not',\n",
    "                r\"cannot\": 'can not',\n",
    "                r\"shan’t\": 'shall not',\n",
    "                r\"n't\": ' not',\n",
    "                r\"'d\": ' would',\n",
    "                r\"'ll\": ' will',\n",
    "                r\"'scuse\": 'excuse',\n",
    "                ',': ' ,',\n",
    "                '.': ' .',\n",
    "                '!': ' !',\n",
    "                '?': ' ?',\n",
    "                '\\s+': ' '}\n",
    "def clean_text(text):\n",
    "    text = text.lower()\n",
    "    for s in replace_list:\n",
    "        text = text.replace(s, replace_list[s])\n",
    "    text = ' '.join(text.split())\n",
    "    return text"
   ]
  },
  {
   "cell_type": "code",
   "execution_count": 20,
   "metadata": {
    "executionInfo": {
     "elapsed": 447,
     "status": "ok",
     "timestamp": 1682001747859,
     "user": {
      "displayName": "Hojun Lee",
      "userId": "14713924399124402560"
     },
     "user_tz": -540
    },
    "id": "5Tf8x1ZfEFt2"
   },
   "outputs": [],
   "source": [
    "#데이터의 TWEET_CONTENT의 부분에 람다함수를 적용 \n",
    "x = data['Tweet_content'].apply(lambda p: clean_text(p))"
   ]
  },
  {
   "cell_type": "code",
   "execution_count": 21,
   "metadata": {
    "colab": {
     "base_uri": "https://localhost:8080/",
     "height": 35
    },
    "executionInfo": {
     "elapsed": 11,
     "status": "ok",
     "timestamp": 1682001747860,
     "user": {
      "displayName": "Hojun Lee",
      "userId": "14713924399124402560"
     },
     "user_tz": -540
    },
    "id": "2y21TyukEFt3",
    "outputId": "11e81f64-0b5b-4497-81c6-c751cc675abc"
   },
   "outputs": [
    {
     "data": {
      "text/plain": [
       "'that was the first borderlands session in a long time where i actually enjoyed a really satisfying combat experience . i got some rather good kills'"
      ]
     },
     "execution_count": 21,
     "metadata": {},
     "output_type": "execute_result"
    }
   ],
   "source": [
    "#바뀐 예시를 보여줌\n",
    "x[20]"
   ]
  },
  {
   "cell_type": "code",
   "execution_count": 22,
   "metadata": {
    "colab": {
     "base_uri": "https://localhost:8080/",
     "height": 716
    },
    "executionInfo": {
     "elapsed": 11,
     "status": "ok",
     "timestamp": 1682001747861,
     "user": {
      "displayName": "Hojun Lee",
      "userId": "14713924399124402560"
     },
     "user_tz": -540
    },
    "id": "JnAoAjhfEFt4",
    "outputId": "f5eaa062-59f5-472b-9ab5-a327cce3b8ea"
   },
   "outputs": [
    {
     "name": "stdout",
     "output_type": "stream",
     "text": [
      "max Tweet_content len: 311\n"
     ]
    },
    {
     "data": {
      "image/png": "[encoded data removed]",
      "text/plain": [
       "<Figure size 1000x800 with 1 Axes>"
      ]
     },
     "metadata": {},
     "output_type": "display_data"
    }
   ],
   "source": [
    "# 각 텍스트를 공백을 구분자로 사용하여 단어로 분할한 후 단어의 수를 세서 저장 길이들 중에서 최대 트윗 내용 길이를 찾고 확률밀도함수로 출력\n",
    "Tweet_content_len = x.apply(lambda p: len(p.split(' ')))\n",
    "max_Tweet_content_len = Tweet_content_len.max()\n",
    "print('max Tweet_content len: {0}'.format(max_Tweet_content_len))\n",
    "plt.figure(figsize = (10, 8))\n",
    "plt.hist(Tweet_content_len, density = True)\n",
    "plt.xlabel('Tweet_content len')\n",
    "plt.ylabel('probability')\n",
    "plt.grid()"
   ]
  },
  {
   "cell_type": "code",
   "execution_count": 18,
   "metadata": {
    "colab": {
     "base_uri": "https://localhost:8080/"
    },
    "executionInfo": {
     "elapsed": 8,
     "status": "ok",
     "timestamp": 1682001751714,
     "user": {
      "displayName": "Hojun Lee",
      "userId": "14713924399124402560"
     },
     "user_tz": -540
    },
    "id": "71o1QdQJEFt6",
    "outputId": "03f509df-71e3-4f74-ba7d-0a2db8fda797"
   },
   "outputs": [
    {
     "name": "stderr",
     "output_type": "stream",
     "text": [
      "[nltk_data] Downloading package stopwords to\n",
      "[nltk_data]     /Users/woosung/nltk_data...\n",
      "[nltk_data]   Unzipping corpora/stopwords.zip.\n"
     ]
    },
    {
     "data": {
      "text/plain": [
       "True"
      ]
     },
     "execution_count": 18,
     "metadata": {},
     "output_type": "execute_result"
    }
   ],
   "source": [
    "import nltk\n",
    "nltk.download('stopwords')"
   ]
  },
  {
   "cell_type": "markdown",
   "metadata": {},
   "source": [
    "### 불용어\n",
    "\n",
    "##### I, my, me, over, 조사, 접미사 같은 단어들은 문장에서는 자주 등장하지만 실제 의미 분석을 하는데는 거의 기여하는 바가 없는 경우가 있습니다. 이러한 단어들을 불용어(stopword)라고 한다. "
   ]
  },
  {
   "cell_type": "code",
   "execution_count": 24,
   "metadata": {
    "executionInfo": {
     "elapsed": 6,
     "status": "ok",
     "timestamp": 1682001751714,
     "user": {
      "displayName": "Hojun Lee",
      "userId": "14713924399124402560"
     },
     "user_tz": -540
    },
    "id": "Z5hbnBCDEFt7"
   },
   "outputs": [],
   "source": [
    "# 문자열 전처리 \n",
    "# review 함수는 @기호를 \" \"으로 바꿈 각 문자열을 소문자로 바꿈 \n",
    "# remove_stop_words함수는 불용어 목록에 포함되어 있지 않은 단어만 리스트에 추가하여 다시 재구성한다\n",
    "# get_stemmed_text 어간 추출을 적용하여 단어를 기본 형태 또는 어간 형태로 축소합니다.\n",
    "import re \n",
    "REPLACE_WITH_SPACE = re.compile(\"(@)\")\n",
    "SPACE = \" \"\n",
    "from nltk.corpus import stopwords\n",
    "english_stop_words = stopwords.words('english')\n",
    "from nltk.stem.porter import PorterStemmer\n",
    "#1\n",
    "def reviews(reviews):  \n",
    "    reviews = [REPLACE_WITH_SPACE.sub(SPACE, line.lower()) for line in reviews]\n",
    "    \n",
    "    return reviews\n",
    "#2\n",
    "def remove_stop_words(corpus):\n",
    "    removed_stop_words = []\n",
    "    for review in corpus:\n",
    "        removed_stop_words.append(\n",
    "            ' '.join([word for word in review.split()  if word not in english_stop_words]))\n",
    "    return removed_stop_words\n",
    "#3\n",
    "def get_stemmed_text(corpus):\n",
    "    stemmer = PorterStemmer()\n",
    "\n",
    "    return [' '.join([stemmer.stem(word) for word in review.split()]) for review in corpus]"
   ]
  },
  {
   "cell_type": "code",
   "execution_count": 25,
   "metadata": {
    "executionInfo": {
     "elapsed": 6,
     "status": "ok",
     "timestamp": 1682001751714,
     "user": {
      "displayName": "Hojun Lee",
      "userId": "14713924399124402560"
     },
     "user_tz": -540
    },
    "id": "3rJrF8hTEFt8"
   },
   "outputs": [],
   "source": [
    "# 감정데이터 분할\n",
    "y =data['Sentiment']"
   ]
  },
  {
   "cell_type": "code",
   "execution_count": 26,
   "metadata": {
    "executionInfo": {
     "elapsed": 40726,
     "status": "ok",
     "timestamp": 1682001792435,
     "user": {
      "displayName": "Hojun Lee",
      "userId": "14713924399124402560"
     },
     "user_tz": -540
    },
    "id": "U-rU8xKWEFt8"
   },
   "outputs": [],
   "source": [
    "#1\n",
    "reviewtweet = reviews(x)\n",
    "#2\n",
    "no_stop_words_tweet = remove_stop_words(reviewtweet)\n",
    "#3\n",
    "stemmed_reviews_tweet = get_stemmed_text(no_stop_words_tweet)"
   ]
  },
  {
   "cell_type": "markdown",
   "metadata": {},
   "source": [
    "###### 'that was the first borderlands session in a long time where i actually enjoyed a really satisfying combat experience . i got some rather good kills'\n",
    "\n",
    "###### 'first borderland session long time actual enjoy realli satisfi combat experi . got rather good kill'"
   ]
  },
  {
   "cell_type": "code",
   "execution_count": 27,
   "metadata": {
    "colab": {
     "base_uri": "https://localhost:8080/",
     "height": 35
    },
    "executionInfo": {
     "elapsed": 9,
     "status": "ok",
     "timestamp": 1682001792436,
     "user": {
      "displayName": "Hojun Lee",
      "userId": "14713924399124402560"
     },
     "user_tz": -540
    },
    "id": "wCCW8vS1EFt9",
    "outputId": "0462ade4-ec16-42dd-9472-8767fad07423"
   },
   "outputs": [
    {
     "data": {
      "application/vnd.google.colaboratory.intrinsic+json": {
       "type": "string"
      },
      "text/plain": [
       "'first borderland session long time actual enjoy realli satisfi combat experi . got rather good kill'"
      ]
     },
     "execution_count": 27,
     "metadata": {},
     "output_type": "execute_result"
    }
   ],
   "source": [
    "# 예시 보기\n",
    "stemmed_reviews_tweet[20]"
   ]
  },
  {
   "cell_type": "code",
   "execution_count": 28,
   "metadata": {
    "executionInfo": {
     "elapsed": 3007,
     "status": "ok",
     "timestamp": 1682001795437,
     "user": {
      "displayName": "Hojun Lee",
      "userId": "14713924399124402560"
     },
     "user_tz": -540
    },
    "id": "l7ePtzLlEFt_"
   },
   "outputs": [],
   "source": [
    "# 토크나이저 실행\n",
    "max_words = 8000\n",
    "\n",
    "tokenizer = Tokenizer(\n",
    "    num_words = max_words,\n",
    "    # 토큰화 과정에서 제거할 문자들의 목록을 설정합니다. \n",
    "    filters = '\"#$%&()*+-/:;<=>@[\\]^_`{|}~'\n",
    ")\n",
    "tokenizer.fit_on_texts(stemmed_reviews_tweet)\n",
    "# 텍스트 데이터를 숫자 시퀀스로 변환합니다.\n",
    "x = tokenizer.texts_to_sequences(stemmed_reviews_tweet)\n",
    "# 함수를 사용하여 시퀀스 데이터의 길이를 동일하게 맞춰줍니다\n",
    "x = pad_sequences(x, maxlen = 300)"
   ]
  },
  {
   "cell_type": "code",
   "execution_count": 29,
   "metadata": {
    "executionInfo": {
     "elapsed": 1596,
     "status": "ok",
     "timestamp": 1682001797029,
     "user": {
      "displayName": "Hojun Lee",
      "userId": "14713924399124402560"
     },
     "user_tz": -540
    },
    "id": "2Gf9QKtfEFuA"
   },
   "outputs": [],
   "source": [
    "label_tokenizer = Tokenizer()\n",
    "label_tokenizer.fit_on_texts(y)\n",
    "\n",
    "y = np.array(label_tokenizer.texts_to_sequences(y))"
   ]
  },
  {
   "cell_type": "code",
   "execution_count": 30,
   "metadata": {
    "executionInfo": {
     "elapsed": 4,
     "status": "ok",
     "timestamp": 1682001797030,
     "user": {
      "displayName": "Hojun Lee",
      "userId": "14713924399124402560"
     },
     "user_tz": -540
    },
    "id": "TgMTGdKHEFuA"
   },
   "outputs": [],
   "source": [
    "from sklearn.model_selection import train_test_split\n",
    "x_train, x_test, y_train, y_test = train_test_split(x, y, train_size = 0.8)"
   ]
  },
  {
   "cell_type": "code",
   "execution_count": 31,
   "metadata": {
    "colab": {
     "base_uri": "https://localhost:8080/"
    },
    "executionInfo": {
     "elapsed": 4872,
     "status": "ok",
     "timestamp": 1682001801898,
     "user": {
      "displayName": "Hojun Lee",
      "userId": "14713924399124402560"
     },
     "user_tz": -540
    },
    "id": "3d_NsMmREFuB",
    "outputId": "45f95e5b-7bbb-44b5-d5ee-21642dfb1162"
   },
   "outputs": [
    {
     "name": "stderr",
     "output_type": "stream",
     "text": [
      "WARNING:tensorflow:Layer lstm will not use cuDNN kernels since it doesn't meet the criteria. It will use a generic GPU kernel as fallback when running on GPU.\n"
     ]
    }
   ],
   "source": [
    "model_lstm = Sequential()\n",
    "model_lstm.add(Embedding(input_dim = max_words, output_dim = 128, input_length = 300))\n",
    "model_lstm.add(SpatialDropout1D(0.3))\n",
    "model_lstm.add(LSTM(128, dropout = 0.3, recurrent_dropout = 0.3))\n",
    "model_lstm.add(Dense(128, activation = 'relu'))\n",
    "model_lstm.add(Dropout(0.3))\n",
    "model_lstm.add(Dense(5, activation = 'softmax'))\n",
    "model_lstm.compile(\n",
    "    loss='sparse_categorical_crossentropy',\n",
    "    optimizer='Adam',\n",
    "    metrics=['accuracy']\n",
    ")"
   ]
  },
  {
   "cell_type": "code",
   "execution_count": 32,
   "metadata": {
    "colab": {
     "base_uri": "https://localhost:8080/"
    },
    "executionInfo": {
     "elapsed": 1611422,
     "status": "ok",
     "timestamp": 1682003413318,
     "user": {
      "displayName": "Hojun Lee",
      "userId": "14713924399124402560"
     },
     "user_tz": -540
    },
    "id": "pdn0kz-mEFuB",
    "outputId": "249d4b34-2cd7-41e6-a31c-9299f672f7b5"
   },
   "outputs": [
    {
     "name": "stdout",
     "output_type": "stream",
     "text": [
      "Epoch 1/10\n",
      "112/112 [==============================] - 199s 2s/step - loss: 1.2823 - accuracy: 0.4110 - val_loss: 1.0192 - val_accuracy: 0.5855\n",
      "Epoch 2/10\n",
      "112/112 [==============================] - 164s 1s/step - loss: 0.8781 - accuracy: 0.6549 - val_loss: 0.7857 - val_accuracy: 0.6938\n",
      "Epoch 3/10\n",
      "112/112 [==============================] - 160s 1s/step - loss: 0.6909 - accuracy: 0.7379 - val_loss: 0.7017 - val_accuracy: 0.7272\n",
      "Epoch 4/10\n",
      "112/112 [==============================] - 159s 1s/step - loss: 0.6025 - accuracy: 0.7735 - val_loss: 0.6523 - val_accuracy: 0.7539\n",
      "Epoch 5/10\n",
      "112/112 [==============================] - 156s 1s/step - loss: 0.5493 - accuracy: 0.7926 - val_loss: 0.6186 - val_accuracy: 0.7664\n",
      "Epoch 6/10\n",
      "112/112 [==============================] - 156s 1s/step - loss: 0.5032 - accuracy: 0.8084 - val_loss: 0.5908 - val_accuracy: 0.7753\n",
      "Epoch 7/10\n",
      "112/112 [==============================] - 154s 1s/step - loss: 0.4681 - accuracy: 0.8208 - val_loss: 0.5752 - val_accuracy: 0.7850\n",
      "Epoch 8/10\n",
      "112/112 [==============================] - 154s 1s/step - loss: 0.4306 - accuracy: 0.8354 - val_loss: 0.5603 - val_accuracy: 0.7912\n",
      "Epoch 9/10\n",
      "112/112 [==============================] - 156s 1s/step - loss: 0.4000 - accuracy: 0.8471 - val_loss: 0.5417 - val_accuracy: 0.8000\n",
      "Epoch 10/10\n",
      "112/112 [==============================] - 153s 1s/step - loss: 0.3823 - accuracy: 0.8532 - val_loss: 0.5349 - val_accuracy: 0.8039\n"
     ]
    }
   ],
   "source": [
    "history = model_lstm.fit(\n",
    "    x_train,\n",
    "    y_train,\n",
    "    validation_data=(x_test,y_test) , \n",
    "    epochs = 10,\n",
    "    batch_size = 512\n",
    ")"
   ]
  },
  {
   "cell_type": "code",
   "execution_count": 33,
   "metadata": {
    "colab": {
     "base_uri": "https://localhost:8080/"
    },
    "executionInfo": {
     "elapsed": 1537678,
     "status": "ok",
     "timestamp": 1682004950983,
     "user": {
      "displayName": "Hojun Lee",
      "userId": "14713924399124402560"
     },
     "user_tz": -540
    },
    "id": "4ZaZarVnJgRX",
    "outputId": "db5cab23-3b67-47e6-f4a5-a2fd2700de9b"
   },
   "outputs": [
    {
     "name": "stdout",
     "output_type": "stream",
     "text": [
      "Epoch 1/10\n",
      "112/112 [==============================] - 153s 1s/step - loss: 0.3606 - accuracy: 0.8608 - val_loss: 0.5392 - val_accuracy: 0.8057\n",
      "Epoch 2/10\n",
      "112/112 [==============================] - 153s 1s/step - loss: 0.3456 - accuracy: 0.8651 - val_loss: 0.5313 - val_accuracy: 0.8132\n",
      "Epoch 3/10\n",
      "112/112 [==============================] - 155s 1s/step - loss: 0.3284 - accuracy: 0.8709 - val_loss: 0.5367 - val_accuracy: 0.8157\n",
      "Epoch 4/10\n",
      "112/112 [==============================] - 152s 1s/step - loss: 0.3186 - accuracy: 0.8746 - val_loss: 0.5244 - val_accuracy: 0.8206\n",
      "Epoch 5/10\n",
      "112/112 [==============================] - 157s 1s/step - loss: 0.3052 - accuracy: 0.8804 - val_loss: 0.5361 - val_accuracy: 0.8201\n",
      "Epoch 6/10\n",
      "112/112 [==============================] - 153s 1s/step - loss: 0.2945 - accuracy: 0.8827 - val_loss: 0.5503 - val_accuracy: 0.8193\n",
      "Epoch 7/10\n",
      "112/112 [==============================] - 153s 1s/step - loss: 0.2848 - accuracy: 0.8876 - val_loss: 0.5399 - val_accuracy: 0.8261\n",
      "Epoch 8/10\n",
      "112/112 [==============================] - 150s 1s/step - loss: 0.2755 - accuracy: 0.8911 - val_loss: 0.5304 - val_accuracy: 0.8254\n",
      "Epoch 9/10\n",
      "112/112 [==============================] - 156s 1s/step - loss: 0.2698 - accuracy: 0.8932 - val_loss: 0.5229 - val_accuracy: 0.8294\n",
      "Epoch 10/10\n",
      "112/112 [==============================] - 154s 1s/step - loss: 0.2595 - accuracy: 0.8968 - val_loss: 0.5357 - val_accuracy: 0.8304\n"
     ]
    }
   ],
   "source": [
    "history = model_lstm.fit(\n",
    "    x_train,\n",
    "    y_train,\n",
    "    validation_data=(x_test,y_test) , \n",
    "    epochs = 10,\n",
    "    batch_size = 512\n",
    ")"
   ]
  },
  {
   "cell_type": "code",
   "execution_count": 34,
   "metadata": {
    "colab": {
     "base_uri": "https://localhost:8080/"
    },
    "executionInfo": {
     "elapsed": 70,
     "status": "ok",
     "timestamp": 1682004950986,
     "user": {
      "displayName": "Hojun Lee",
      "userId": "14713924399124402560"
     },
     "user_tz": -540
    },
    "id": "_MmgXVCeEFuD",
    "outputId": "dec68073-f9ba-45ff-81c9-5381d7bcbe35"
   },
   "outputs": [
    {
     "name": "stdout",
     "output_type": "stream",
     "text": [
      "Model: \"sequential\"\n",
      "_________________________________________________________________\n",
      " Layer (type)                Output Shape              Param #   \n",
      "=================================================================\n",
      " embedding (Embedding)       (None, 300, 128)          1024000   \n",
      "                                                                 \n",
      " spatial_dropout1d (SpatialD  (None, 300, 128)         0         \n",
      " ropout1D)                                                       \n",
      "                                                                 \n",
      " lstm (LSTM)                 (None, 128)               131584    \n",
      "                                                                 \n",
      " dense (Dense)               (None, 128)               16512     \n",
      "                                                                 \n",
      " dropout (Dropout)           (None, 128)               0         \n",
      "                                                                 \n",
      " dense_1 (Dense)             (None, 5)                 645       \n",
      "                                                                 \n",
      "=================================================================\n",
      "Total params: 1,172,741\n",
      "Trainable params: 1,172,741\n",
      "Non-trainable params: 0\n",
      "_________________________________________________________________\n"
     ]
    }
   ],
   "source": [
    "model_lstm.summary()"
   ]
  },
  {
   "cell_type": "code",
   "execution_count": 35,
   "metadata": {
    "colab": {
     "base_uri": "https://localhost:8080/",
     "height": 927
    },
    "executionInfo": {
     "elapsed": 34,
     "status": "ok",
     "timestamp": 1682004950989,
     "user": {
      "displayName": "Hojun Lee",
      "userId": "14713924399124402560"
     },
     "user_tz": -540
    },
    "id": "mjGtT2ndE9-k",
    "outputId": "5a07676c-2e26-48e3-857f-4650d585acf9"
   },
   "outputs": [
    {
     "data": {
      "image/png": "[encoded data removed]",
      "text/plain": [
       "<Figure size 640x480 with 1 Axes>"
      ]
     },
     "metadata": {},
     "output_type": "display_data"
    },
    {
     "data": {
      "image/png": "[encoded data removed]",
      "text/plain": [
       "<Figure size 640x480 with 1 Axes>"
      ]
     },
     "metadata": {},
     "output_type": "display_data"
    }
   ],
   "source": [
    "plt.figure(1)\n",
    "plt.plot(history.history['loss'])\n",
    "plt.plot(history.history['val_loss'])\n",
    "plt.legend(['training','validation'])\n",
    "plt.title('Loss')\n",
    "plt.xlabel('epoch')\n",
    "plt.figure(2)\n",
    "plt.plot(history.history['accuracy'])\n",
    "plt.plot(history.history['val_accuracy'])\n",
    "plt.legend(['training','validation'])\n",
    "plt.title('Accuracy')\n",
    "plt.xlabel('epoch')\n",
    "plt.show()"
   ]
  }
 ],
 "metadata": {
  "accelerator": "GPU",
  "colab": {
   "gpuType": "A100",
   "provenance": []
  },
  "gpuClass": "standard",
  "kernelspec": {
   "display_name": "Python 3 (ipykernel)",
   "language": "python",
   "name": "python3"
  },
  "language_info": {
   "codemirror_mode": {
    "name": "ipython",
    "version": 3
   },
   "file_extension": ".py",
   "mimetype": "text/x-python",
   "name": "python",
   "nbconvert_exporter": "python",
   "pygments_lexer": "ipython3",
   "version": "3.11.2"
  }
 },
 "nbformat": 4,
 "nbformat_minor": 1
}
